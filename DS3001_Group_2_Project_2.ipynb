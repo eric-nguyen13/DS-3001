{
  "nbformat": 4,
  "nbformat_minor": 0,
  "metadata": {
    "colab": {
      "provenance": [],
      "include_colab_link": true
    },
    "kernelspec": {
      "name": "python3",
      "display_name": "Python 3"
    },
    "language_info": {
      "name": "python"
    }
  },
  "cells": [
    {
      "cell_type": "markdown",
      "metadata": {
        "id": "view-in-github",
        "colab_type": "text"
      },
      "source": [
        "<a href=\"https://colab.research.google.com/github/eric-nguyen13/DS-3001/blob/main/DS3001_Group_2_Project_2.ipynb\" target=\"_parent\"><img src=\"https://colab.research.google.com/assets/colab-badge.svg\" alt=\"Open In Colab\"/></a>"
      ]
    },
    {
      "cell_type": "markdown",
      "source": [
        "---\n",
        "# Project 2 - Stroke\n",
        "**Group 2: Elaine Zhang, Eric Nguyen,**\n",
        "  - zzb2rf, wvu9cs,\n",
        "  - Any questions or comments about this report should be directted to the authors.\n",
        "\n",
        "---\n"
      ],
      "metadata": {
        "id": "LAuS20AkkUIW"
      }
    },
    {
      "cell_type": "code",
      "source": [
        "# imports\n",
        "import pandas as pd\n",
        "import numpy as np\n",
        "import matplotlib.pyplot as plt\n",
        "import seaborn as sns"
      ],
      "metadata": {
        "id": "e9cKv7yblKuI"
      },
      "execution_count": null,
      "outputs": []
    },
    {
      "cell_type": "markdown",
      "source": [
        "## Data Cleaning:\n",
        "  - In this section..."
      ],
      "metadata": {
        "id": "Qa6iXHUqkgA_"
      }
    },
    {
      "cell_type": "markdown",
      "source": [
        "Variables\n",
        "- **age**: Patient age, numeric\n",
        "- **avg_glucose_level**: Blood sugar levels, numeric\n",
        "- **bmi**: Body mass index, numeric\n",
        "- **ever_married**: Ever married, dummy/character (Yes, No)\n",
        "- **gender**: Male, Female, or Other, character\n",
        "- **heart_disease**: Has heart disease, dummy\n",
        "- **hypertension**: Has hypertension, dummy\n",
        "- **id**: Study identification number\n",
        "- **Residence_type**: Type of residence, dummy/character (Urban, Rural)\n",
        "- **smoking_status**: Former, never, or current smoker, categorical\n",
        "- **work_type**: Employment type (Never worked (Never_worked), homemaker (\"children\"), Public sector employment (Govt_job), Private sector employment (Private), Self-employed (Self-employed)\n",
        "- **stroke**: Suffered a stroke in the sample period"
      ],
      "metadata": {
        "id": "Cxdk_N9nzRWE"
      }
    },
    {
      "cell_type": "code",
      "source": [
        "training_data = pd.read_csv('training_data.csv')\n",
        "testing_data = pd.read_csv('testing_data.csv')\n",
        "training_data.columns"
      ],
      "metadata": {
        "colab": {
          "base_uri": "https://localhost:8080/"
        },
        "id": "8pJd3M8okYuF",
        "outputId": "559b75ab-1c95-4b9d-d2c9-e54c5e252661"
      },
      "execution_count": null,
      "outputs": [
        {
          "output_type": "execute_result",
          "data": {
            "text/plain": [
              "Index(['Unnamed: 0', 'id', 'gender', 'age', 'hypertension', 'heart_disease',\n",
              "       'ever_married', 'work_type', 'Residence_type', 'avg_glucose_level',\n",
              "       'bmi', 'smoking_status', 'stroke'],\n",
              "      dtype='object')"
            ]
          },
          "metadata": {},
          "execution_count": 23
        }
      ]
    },
    {
      "cell_type": "code",
      "source": [
        "print('Training size', training_data.shape)\n",
        "print('Testing size', testing_data.shape)"
      ],
      "metadata": {
        "colab": {
          "base_uri": "https://localhost:8080/"
        },
        "id": "RZW4HDyslsEc",
        "outputId": "7471885a-ab6a-48bb-a9dd-37a9d2947728"
      },
      "execution_count": null,
      "outputs": [
        {
          "output_type": "stream",
          "name": "stdout",
          "text": [
            "Training size (4087, 13)\n",
            "Testing size (1023, 13)\n"
          ]
        }
      ]
    },
    {
      "cell_type": "code",
      "source": [
        "training_data.info()"
      ],
      "metadata": {
        "colab": {
          "base_uri": "https://localhost:8080/"
        },
        "id": "LYO-vQzNoLSS",
        "outputId": "5d3a013d-9e30-4b86-834d-c7be48d65272"
      },
      "execution_count": null,
      "outputs": [
        {
          "output_type": "stream",
          "name": "stdout",
          "text": [
            "<class 'pandas.core.frame.DataFrame'>\n",
            "RangeIndex: 4087 entries, 0 to 4086\n",
            "Data columns (total 13 columns):\n",
            " #   Column             Non-Null Count  Dtype  \n",
            "---  ------             --------------  -----  \n",
            " 0   Unnamed: 0         4087 non-null   int64  \n",
            " 1   id                 4087 non-null   int64  \n",
            " 2   gender             4087 non-null   object \n",
            " 3   age                4087 non-null   float64\n",
            " 4   hypertension       4087 non-null   int64  \n",
            " 5   heart_disease      4087 non-null   int64  \n",
            " 6   ever_married       4087 non-null   object \n",
            " 7   work_type          4087 non-null   object \n",
            " 8   Residence_type     4087 non-null   object \n",
            " 9   avg_glucose_level  4087 non-null   float64\n",
            " 10  bmi                3928 non-null   float64\n",
            " 11  smoking_status     4087 non-null   object \n",
            " 12  stroke             4087 non-null   int64  \n",
            "dtypes: float64(3), int64(5), object(5)\n",
            "memory usage: 415.2+ KB\n"
          ]
        }
      ]
    },
    {
      "cell_type": "code",
      "source": [
        "# Missing values?\n",
        "print(\"Training NaN --\")\n",
        "nan_details = training_data.isnull().sum()\n",
        "for column, value in nan_details.items():\n",
        "  if (value != 0):\n",
        "    print(column, value)\n",
        "\n",
        "print(\"Testing NaN --\")\n",
        "nan_details = testing_data.isnull().sum()\n",
        "for column, value in nan_details.items():\n",
        "  if (value != 0):\n",
        "    print(column, value)"
      ],
      "metadata": {
        "colab": {
          "base_uri": "https://localhost:8080/"
        },
        "id": "Z1yIo3wbliup",
        "outputId": "45bf4fec-820d-446e-e358-34a7c27bc60c"
      },
      "execution_count": null,
      "outputs": [
        {
          "output_type": "stream",
          "name": "stdout",
          "text": [
            "Training NaN --\n",
            "bmi 159\n",
            "Testing NaN --\n",
            "bmi 42\n"
          ]
        }
      ]
    },
    {
      "cell_type": "code",
      "source": [
        "# looking at the spread\n",
        "training_data.hist()\n",
        "plt.subplots_adjust(hspace=1)\n",
        "plt.show()"
      ],
      "metadata": {
        "colab": {
          "base_uri": "https://localhost:8080/",
          "height": 452
        },
        "id": "QhRdijOdmXSp",
        "outputId": "feca44d5-abd6-40ea-c924-20bdf0b88862"
      },
      "execution_count": null,
      "outputs": [
        {
          "output_type": "display_data",
          "data": {
            "text/plain": [
              "<Figure size 640x480 with 9 Axes>"
            ],
            "image/png": "[encoded data removed]"
          },
          "metadata": {}
        }
      ]
    },
    {
      "cell_type": "code",
      "source": [
        "# drop Unamed: 0 because don't know what that column is\n",
        "# drop id, because the id of the person should have no impact on the model\n",
        "training_data = training_data.drop(columns=['Unnamed: 0', 'id'])\n",
        "testing_data = testing_data.drop(columns=['Unnamed: 0', 'id'])"
      ],
      "metadata": {
        "id": "CImI_ZfjtavR"
      },
      "execution_count": null,
      "outputs": []
    },
    {
      "cell_type": "code",
      "source": [
        "training_data['heart_disease'].unique()"
      ],
      "metadata": {
        "colab": {
          "base_uri": "https://localhost:8080/"
        },
        "id": "3eBSp6M-uSqQ",
        "outputId": "25cdd75e-7b11-4789-b1f2-9f1bce004ef2"
      },
      "execution_count": null,
      "outputs": [
        {
          "output_type": "execute_result",
          "data": {
            "text/plain": [
              "array([0, 1])"
            ]
          },
          "metadata": {},
          "execution_count": 35
        }
      ]
    },
    {
      "cell_type": "code",
      "source": [
        "# Make hypertension, stroke, heart_disease categorical because they are binary labels\n",
        "binary_columns = ['hypertension', 'heart_disease', 'stroke']\n",
        "training_data[binary_columns] = training_data[binary_columns].astype('object')\n",
        "testing_data[binary_columns] = testing_data[binary_columns].astype('object')"
      ],
      "metadata": {
        "id": "Pl3iKbm-unjr"
      },
      "execution_count": null,
      "outputs": []
    },
    {
      "cell_type": "code",
      "source": [
        "training_data.info()"
      ],
      "metadata": {
        "colab": {
          "base_uri": "https://localhost:8080/"
        },
        "id": "hUFpn7fkvG4t",
        "outputId": "18ceabd0-b5c5-4684-c386-a5062db9b672"
      },
      "execution_count": null,
      "outputs": [
        {
          "output_type": "stream",
          "name": "stdout",
          "text": [
            "<class 'pandas.core.frame.DataFrame'>\n",
            "RangeIndex: 4087 entries, 0 to 4086\n",
            "Data columns (total 11 columns):\n",
            " #   Column             Non-Null Count  Dtype  \n",
            "---  ------             --------------  -----  \n",
            " 0   gender             4087 non-null   object \n",
            " 1   age                4087 non-null   float64\n",
            " 2   hypertension       4087 non-null   object \n",
            " 3   heart_disease      4087 non-null   object \n",
            " 4   ever_married       4087 non-null   object \n",
            " 5   work_type          4087 non-null   object \n",
            " 6   Residence_type     4087 non-null   object \n",
            " 7   avg_glucose_level  4087 non-null   float64\n",
            " 8   bmi                3928 non-null   float64\n",
            " 9   smoking_status     4087 non-null   object \n",
            " 10  stroke             4087 non-null   object \n",
            "dtypes: float64(3), object(8)\n",
            "memory usage: 351.4+ KB\n"
          ]
        }
      ]
    },
    {
      "cell_type": "markdown",
      "source": [
        "## Data Visualization\n",
        "  - In this section..."
      ],
      "metadata": {
        "id": "RGnnY2askj5o"
      }
    },
    {
      "cell_type": "code",
      "source": [],
      "metadata": {
        "id": "GnFRo-V-kl-t"
      },
      "execution_count": null,
      "outputs": []
    },
    {
      "cell_type": "markdown",
      "source": [
        "## Models\n",
        "  - In this section... (Cheryl and Hieu summarize this part)"
      ],
      "metadata": {
        "id": "3L2Kn8h7nKNX"
      }
    },
    {
      "cell_type": "code",
      "source": [
        "# split data into features and the target labels\n",
        "X_train = training_data.drop(columns=['stroke'])\n",
        "y_train = training_data[\"stroke\"].copy()\n",
        "\n",
        "X_test = testing_data.drop(columns=['stroke'])\n",
        "y_train = testing_data[\"stroke\"].copy()"
      ],
      "metadata": {
        "id": "6UgUZsoRsCQm"
      },
      "execution_count": null,
      "outputs": []
    },
    {
      "cell_type": "code",
      "source": [
        "training_num = X_train.select_dtypes(include=[np.number])\n",
        "training_cat = X_train.select_dtypes(exclude=[np.number])\n",
        "num_attribs = list(training_num)\n",
        "cat_attribs = list(training_cat)"
      ],
      "metadata": {
        "id": "dzJUBsxYnWtP"
      },
      "execution_count": null,
      "outputs": []
    },
    {
      "cell_type": "code",
      "source": [
        "from sklearn.pipeline import Pipeline\n",
        "from sklearn.preprocessing import StandardScaler, PolynomialFeatures\n",
        "from sklearn.impute import SimpleImputer\n",
        "from sklearn.preprocessing import OneHotEncoder\n",
        "from sklearn.compose import ColumnTransformer\n",
        "\n",
        "num_pipeline = Pipeline([\n",
        "    ('imputer', SimpleImputer(strategy='median')),\n",
        "    (\"poly_features\", PolynomialFeatures(degree=2, include_bias=False)),\n",
        "    (\"std_scaler\", StandardScaler()),\n",
        "\n",
        "])\n",
        "\n",
        "full_pipeline = ColumnTransformer([\n",
        "    (\"num\", num_pipeline, num_attribs),\n",
        "    (\"cat\", OneHotEncoder(handle_unknown=\"infrequent_if_exist\"), cat_attribs),\n",
        "])\n",
        "\n",
        "X_train_prepared = full_pipeline.fit_transform(X_train)"
      ],
      "metadata": {
        "id": "mk5CyCkonMqZ"
      },
      "execution_count": null,
      "outputs": []
    }
  ]
}